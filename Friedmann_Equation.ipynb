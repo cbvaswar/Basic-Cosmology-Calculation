{
 "cells": [
  {
   "cell_type": "markdown",
   "id": "b4c57523-b64c-4ebd-86bb-a7609a66f55d",
   "metadata": {},
   "source": [
    "<span style=\"color:red; font-weight: bold;\">Friedmann from Einstein Field Equations:</span>\n",
    "\n",
    "The Einstein (field) equations relate geometry ($R_{\\mu\\nu}$) to the matter content of universe ($T_{\\mu \\nu}$):\n",
    "\n",
    "$\\large R_{\\mu\\nu} - \\frac{1}{2}g_{\\mu\\nu}R = 8\\pi GT_{\\mu\\nu}$\n",
    "\n",
    "For more information: \n",
    "https://en.wikipedia.org/wiki/Einstein_field_equations\n",
    "\n",
    "Here, the Greek indices run over $\\{0, 1, 2, 3\\}$, corresponding to $x^\\mu = [t, x, y, z]$: $x^0 = t$, $x^1 = x$, $x^2 = y$, $x^3 = z$. The above is then really $4\\times 4 = 16$ equations.\n",
    "\n",
    "Now Ricci curvature tensor \n",
    "\n",
    "$ \\large R_{\\mu\\nu} = \\large  \\Gamma^\\alpha_{\\mu\\nu,\\alpha} - \\Gamma^\\alpha_{\\nu\\alpha,\\mu} + \\Gamma^\\alpha_{\\alpha\\beta}\\Gamma^\\beta_{\\mu\\nu} - \\Gamma^\\alpha_{\\mu\\beta}\\Gamma^\\beta_{\\alpha\\nu}$\n",
    "\n",
    "and scalar\n",
    "\n",
    "$\\large{R} = \\large R^\\alpha_\\alpha = g^{\\alpha\\beta}R_{\\alpha\\beta}$\n",
    "\n",
    "Refer: https://en.wikipedia.org/wiki/Ricci_curvature#Definition_via_local_coordinates_on_a_smooth_manifold\n",
    "\n",
    "And $\\Gamma$s' are connections in a given manifold computed by:\n",
    "\n",
    "$\\Gamma^\\alpha_{\\mu\\nu,\\alpha} \\equiv \\partial_\\alpha\\Gamma^\\alpha_{\\mu\\nu} \\equiv \\frac{\\partial \\Gamma^\\alpha_{\\mu\\nu}}{\\partial x^\\alpha}$\n",
    "\n",
    "Refer: https://en.wikibooks.org/wiki/General_Relativity/Coordinate_systems_and_the_comma_derivative\n",
    "\n",
    "Einstein summation convention (matching upper and lower indices are summed):\n",
    "\n",
    "$\\Gamma^\\alpha_{\\mu\\nu,\\alpha} \\equiv \\sum_{\\alpha=0}^3 \\Gamma^\\alpha_{\\mu\\nu,\\alpha} \\qquad (\\text{some object with free indices $_{\\mu\\nu}$})$\n",
    "\n",
    "$\\Gamma^\\alpha_{\\alpha\\beta}\\Gamma^\\beta_{\\mu\\nu} \\equiv \\sum_{\\alpha=0}^3 \\sum_{\\beta=0}^3\\Gamma^\\alpha_{\\alpha\\beta}\\Gamma^\\beta_{\\mu\\nu} \\qquad (\\text{some object with free indices $_{\\mu\\nu}$})$\n",
    "\n",
    "\n",
    "Refer: https://en.wikipedia.org/wiki/Einstein_notation\n",
    "\n",
    "Christoffel symbols: https://en.wikipedia.org/wiki/Christoffel_symbols\n",
    "\n",
    "$\\large  \\Gamma^\\mu_{\\nu\\sigma} = \\large  \\frac{1}{2}g^{\\mu\\alpha}(g_{\\sigma\\alpha,\\nu} + g_{\\nu\\alpha,\\sigma} - g_{\\nu\\sigma,\\alpha})$\n"
   ]
  },
  {
   "cell_type": "markdown",
   "id": "a22ca4c1-e131-4c59-ad47-eadab1d36e65",
   "metadata": {},
   "source": [
    "Metric for a homogeneous and isotropic spacetime written in Cartesian coordinates:\n",
    "\n",
    "$\\large g_{\\mu\\nu} = \\large \\begin{bmatrix} -1 & 0 & 0 & 0 \\\\ 0 & a^2(t) & 0 & 0 \\\\ 0 & 0 & a^2(t) & 0 \\\\ 0 & 0 & 0 & a^2(t) \\end{bmatrix}$\n",
    "\n",
    "with $g^{\\mu\\nu}$ the matrix inverse of $g_{\\mu\\nu}$.\n",
    "\n",
    "The Stress-energy tensor\n",
    "(https://upload.wikimedia.org/wikipedia/commons/thumb/f/fe/StressEnergyTensor_contravariant.svg/354px-StressEnergyTensor_contravariant.svg.png)\n",
    "\n",
    "Refer: https://en.wikipedia.org/wiki/Stress%E2%80%93energy_tensor\n",
    "\n",
    "For a homogeneity and isotropy (perfect fluid)\n",
    "\n",
    "$\\large T_{\\mu\\nu} = \\large (\\rho + P)u_\\mu u_\\nu + Pg_{\\mu\\nu}$\n",
    "\n",
    "with $\\rho = \\rho(t)$ the energy density of the fluid, $P = P(t)$ the pressure of the fluid and $u_\\mu$ the four-velocity of the fluid: $u_\\mu = \\gamma[-1, \\vec{u}] = [-\\gamma, \\gamma u_x, \\gamma u_y, \\gamma u_z] = [-1, 0, 0, 0]$ (as the Lorentz factor for the stationary fluid is $\\gamma = 1$).\n"
   ]
  },
  {
   "cell_type": "code",
   "execution_count": 3,
   "id": "28bf43d0-30d8-453f-89d5-cf1b93cb7060",
   "metadata": {},
   "outputs": [],
   "source": [
    "import numpy as np\n",
    "from sympy import *"
   ]
  },
  {
   "cell_type": "code",
   "execution_count": 5,
   "id": "1aff3d40-144f-42e6-a050-88dec28f3d0e",
   "metadata": {},
   "outputs": [],
   "source": [
    "# For printing\n",
    "from IPython.display import display, Image, Math\n",
    "import warnings\n",
    "warnings.filterwarnings('ignore', category=DeprecationWarning)\n",
    "def latex_print(lhs, rhs=None):\n",
    "    if str(...) in str(lhs) or str(...) in str(rhs):\n",
    "        return\n",
    "    if rhs is None:\n",
    "        display(Math(latex(simplify(lhs))))\n",
    "    else:\n",
    "        if isinstance(rhs, Eq):\n",
    "            eq = rhs\n",
    "            display(Math(f'{lhs} {latex(simplify(eq.lhs))} = {latex(simplify(eq.rhs))}'))\n",
    "        else:\n",
    "            display(Math(f'{lhs} = {latex(simplify(rhs))}'))\n"
   ]
  },
  {
   "cell_type": "code",
   "execution_count": 7,
   "id": "5c3e4136-93f2-46f0-8f38-0cfbc54899fc",
   "metadata": {},
   "outputs": [
    {
     "data": {
      "text/latex": [
       "$\\displaystyle g_{\\mu\\nu} = \\left[\\begin{matrix}-1 & 0 & 0 & 0\\\\0 & a^{2}{\\left(t \\right)} & 0 & 0\\\\0 & 0 & a^{2}{\\left(t \\right)} & 0\\\\0 & 0 & 0 & a^{2}{\\left(t \\right)}\\end{matrix}\\right]$"
      ],
      "text/plain": [
       "<IPython.core.display.Math object>"
      ]
     },
     "metadata": {},
     "output_type": "display_data"
    },
    {
     "data": {
      "text/latex": [
       "$\\displaystyle g^{\\mu\\nu} = \\left[\\begin{matrix}-1 & 0 & 0 & 0\\\\0 & \\frac{1}{a^{2}{\\left(t \\right)}} & 0 & 0\\\\0 & 0 & \\frac{1}{a^{2}{\\left(t \\right)}} & 0\\\\0 & 0 & 0 & \\frac{1}{a^{2}{\\left(t \\right)}}\\end{matrix}\\right]$"
      ],
      "text/plain": [
       "<IPython.core.display.Math object>"
      ]
     },
     "metadata": {},
     "output_type": "display_data"
    },
    {
     "data": {
      "text/latex": [
       "$\\displaystyle T_{\\mu, \\nu} = \\left[\\begin{matrix}ρ{\\left(t \\right)} & 0 & 0 & 0\\\\0 & P{\\left(t \\right)} a^{2}{\\left(t \\right)} & 0 & 0\\\\0 & 0 & P{\\left(t \\right)} a^{2}{\\left(t \\right)} & 0\\\\0 & 0 & 0 & P{\\left(t \\right)} a^{2}{\\left(t \\right)}\\end{matrix}\\right]$"
      ],
      "text/plain": [
       "<IPython.core.display.Math object>"
      ]
     },
     "metadata": {},
     "output_type": "display_data"
    },
    {
     "data": {
      "text/latex": [
       "$\\displaystyle Γ^{t}_{xx} = a{\\left(t \\right)} \\frac{d}{d t} a{\\left(t \\right)}$"
      ],
      "text/plain": [
       "<IPython.core.display.Math object>"
      ]
     },
     "metadata": {},
     "output_type": "display_data"
    },
    {
     "data": {
      "text/latex": [
       "$\\displaystyle Γ^{t}_{yy} = a{\\left(t \\right)} \\frac{d}{d t} a{\\left(t \\right)}$"
      ],
      "text/plain": [
       "<IPython.core.display.Math object>"
      ]
     },
     "metadata": {},
     "output_type": "display_data"
    },
    {
     "data": {
      "text/latex": [
       "$\\displaystyle Γ^{t}_{zz} = a{\\left(t \\right)} \\frac{d}{d t} a{\\left(t \\right)}$"
      ],
      "text/plain": [
       "<IPython.core.display.Math object>"
      ]
     },
     "metadata": {},
     "output_type": "display_data"
    },
    {
     "data": {
      "text/latex": [
       "$\\displaystyle Γ^{x}_{tx} = \\frac{\\frac{d}{d t} a{\\left(t \\right)}}{a{\\left(t \\right)}}$"
      ],
      "text/plain": [
       "<IPython.core.display.Math object>"
      ]
     },
     "metadata": {},
     "output_type": "display_data"
    },
    {
     "data": {
      "text/latex": [
       "$\\displaystyle Γ^{x}_{xt} = \\frac{\\frac{d}{d t} a{\\left(t \\right)}}{a{\\left(t \\right)}}$"
      ],
      "text/plain": [
       "<IPython.core.display.Math object>"
      ]
     },
     "metadata": {},
     "output_type": "display_data"
    },
    {
     "data": {
      "text/latex": [
       "$\\displaystyle Γ^{y}_{ty} = \\frac{\\frac{d}{d t} a{\\left(t \\right)}}{a{\\left(t \\right)}}$"
      ],
      "text/plain": [
       "<IPython.core.display.Math object>"
      ]
     },
     "metadata": {},
     "output_type": "display_data"
    },
    {
     "data": {
      "text/latex": [
       "$\\displaystyle Γ^{y}_{yt} = \\frac{\\frac{d}{d t} a{\\left(t \\right)}}{a{\\left(t \\right)}}$"
      ],
      "text/plain": [
       "<IPython.core.display.Math object>"
      ]
     },
     "metadata": {},
     "output_type": "display_data"
    },
    {
     "data": {
      "text/latex": [
       "$\\displaystyle Γ^{z}_{tz} = \\frac{\\frac{d}{d t} a{\\left(t \\right)}}{a{\\left(t \\right)}}$"
      ],
      "text/plain": [
       "<IPython.core.display.Math object>"
      ]
     },
     "metadata": {},
     "output_type": "display_data"
    },
    {
     "data": {
      "text/latex": [
       "$\\displaystyle Γ^{z}_{zt} = \\frac{\\frac{d}{d t} a{\\left(t \\right)}}{a{\\left(t \\right)}}$"
      ],
      "text/plain": [
       "<IPython.core.display.Math object>"
      ]
     },
     "metadata": {},
     "output_type": "display_data"
    },
    {
     "data": {
      "text/latex": [
       "$\\displaystyle R_{tt} = - \\frac{3 \\frac{d^{2}}{d t^{2}} a{\\left(t \\right)}}{a{\\left(t \\right)}}$"
      ],
      "text/plain": [
       "<IPython.core.display.Math object>"
      ]
     },
     "metadata": {},
     "output_type": "display_data"
    },
    {
     "data": {
      "text/latex": [
       "$\\displaystyle R_{xx} = a{\\left(t \\right)} \\frac{d^{2}}{d t^{2}} a{\\left(t \\right)} + 2 \\left(\\frac{d}{d t} a{\\left(t \\right)}\\right)^{2}$"
      ],
      "text/plain": [
       "<IPython.core.display.Math object>"
      ]
     },
     "metadata": {},
     "output_type": "display_data"
    },
    {
     "data": {
      "text/latex": [
       "$\\displaystyle R_{yy} = a{\\left(t \\right)} \\frac{d^{2}}{d t^{2}} a{\\left(t \\right)} + 2 \\left(\\frac{d}{d t} a{\\left(t \\right)}\\right)^{2}$"
      ],
      "text/plain": [
       "<IPython.core.display.Math object>"
      ]
     },
     "metadata": {},
     "output_type": "display_data"
    },
    {
     "data": {
      "text/latex": [
       "$\\displaystyle R_{zz} = a{\\left(t \\right)} \\frac{d^{2}}{d t^{2}} a{\\left(t \\right)} + 2 \\left(\\frac{d}{d t} a{\\left(t \\right)}\\right)^{2}$"
      ],
      "text/plain": [
       "<IPython.core.display.Math object>"
      ]
     },
     "metadata": {},
     "output_type": "display_data"
    },
    {
     "data": {
      "text/latex": [
       "$\\displaystyle R = \\frac{6 \\left(a{\\left(t \\right)} \\frac{d^{2}}{d t^{2}} a{\\left(t \\right)} + \\left(\\frac{d}{d t} a{\\left(t \\right)}\\right)^{2}\\right)}{a^{2}{\\left(t \\right)}}$"
      ],
      "text/plain": [
       "<IPython.core.display.Math object>"
      ]
     },
     "metadata": {},
     "output_type": "display_data"
    },
    {
     "data": {
      "text/latex": [
       "$\\displaystyle t, t: - \\frac{3 \\left(\\frac{d}{d t} a{\\left(t \\right)}\\right)^{2}}{a^{2}{\\left(t \\right)}} = - 8 \\pi G ρ{\\left(t \\right)}$"
      ],
      "text/plain": [
       "<IPython.core.display.Math object>"
      ]
     },
     "metadata": {},
     "output_type": "display_data"
    },
    {
     "data": {
      "text/latex": [
       "$\\displaystyle x, x: \\frac{- 2 a{\\left(t \\right)} \\frac{d^{2}}{d t^{2}} a{\\left(t \\right)} - \\left(\\frac{d}{d t} a{\\left(t \\right)}\\right)^{2}}{a^{2}{\\left(t \\right)}} = 8 \\pi G P{\\left(t \\right)}$"
      ],
      "text/plain": [
       "<IPython.core.display.Math object>"
      ]
     },
     "metadata": {},
     "output_type": "display_data"
    },
    {
     "data": {
      "text/latex": [
       "$\\displaystyle y, y: \\frac{- 2 a{\\left(t \\right)} \\frac{d^{2}}{d t^{2}} a{\\left(t \\right)} - \\left(\\frac{d}{d t} a{\\left(t \\right)}\\right)^{2}}{a^{2}{\\left(t \\right)}} = 8 \\pi G P{\\left(t \\right)}$"
      ],
      "text/plain": [
       "<IPython.core.display.Math object>"
      ]
     },
     "metadata": {},
     "output_type": "display_data"
    },
    {
     "data": {
      "text/latex": [
       "$\\displaystyle z, z: \\frac{- 2 a{\\left(t \\right)} \\frac{d^{2}}{d t^{2}} a{\\left(t \\right)} - \\left(\\frac{d}{d t} a{\\left(t \\right)}\\right)^{2}}{a^{2}{\\left(t \\right)}} = 8 \\pi G P{\\left(t \\right)}$"
      ],
      "text/plain": [
       "<IPython.core.display.Math object>"
      ]
     },
     "metadata": {},
     "output_type": "display_data"
    }
   ],
   "source": [
    "\n",
    "# Cartesian coordinates\n",
    "x = [Symbol('t'), Symbol('x'), Symbol('y'), Symbol('z')]\n",
    "t = x[0]\n",
    "\n",
    "# Scale factor\n",
    "a = Function('a', positive=True)(t)\n",
    "\n",
    "# The metric\n",
    "g = Matrix([\n",
    "    [-1,    0,    0,    0],\n",
    "    [ 0, a**2,    0,    0],\n",
    "    [ 0,    0, a**2,    0],\n",
    "    [ 0,    0,    0, a**2],\n",
    "])\n",
    "latex_print(r'g_{\\mu\\nu}', g)\n",
    "\n",
    "# The inverse metric\n",
    "g_inv = g**(-1)\n",
    "latex_print(r'g^{\\mu\\nu}', g_inv)\n",
    "\n",
    "# Stress-energy tensor\n",
    "ρ = Function('ρ')(t)\n",
    "P = Function('P')(t)\n",
    "u = [-1, 0, 0, 0]\n",
    "T = np.zeros([4, 4], dtype=object)\n",
    "for μ in range(4):\n",
    "    for ν in range(4):\n",
    "        T[μ, ν] = (ρ + P)*u[μ]*u[ν] + P*g[μ, ν]\n",
    "latex_print(r'T_{\\mu, \\nu}', T)\n",
    "\n",
    "\n",
    "\n",
    "# Christoffel symbols\n",
    "Γ = np.zeros([4, 4, 4], dtype=object)\n",
    "for μ in range(4):\n",
    "    for ν in range(4):\n",
    "        for σ in range(4):\n",
    "            Γ[μ, ν, σ] = Rational(1, 2)*sum(\n",
    "                g_inv[μ, α]*(\n",
    "                    + diff(g[σ, α], x[ν])\n",
    "                    + diff(g[ν, α], x[σ])\n",
    "                    - diff(g[ν, σ], x[α])\n",
    "                )\n",
    "                for α in range(4)\n",
    "            )\n",
    "\n",
    "# Print non-zero Christoffel symbols\n",
    "for μ in range(4):\n",
    "    for ν in range(4):\n",
    "        for σ in range(4):\n",
    "            if Γ[μ, ν, σ] != 0:\n",
    "                latex_print(rf'Γ^{{{x[μ]}}}_{{{x[ν]}{x[σ]}}}', Γ[μ, ν, σ])\n",
    "\n",
    "\n",
    "# Ricci tensor\n",
    "R = np.zeros([4, 4], dtype=object)\n",
    "for μ in range(4):\n",
    "    for ν in range(4):\n",
    "        R[μ, ν] = (\n",
    "            + sum(diff(Γ[α, μ, ν], x[α]) for α in range(4))\n",
    "            - sum(diff(Γ[α, ν, α], x[μ]) for α in range(4))\n",
    "            + sum(Γ[α, α, β]*Γ[β, μ, ν]  for α in range(4) for β in range(4))\n",
    "            - sum(Γ[α, μ, β]*Γ[β, α, ν]  for α in range(4) for β in range(4))        \n",
    "        )\n",
    "\n",
    "# Print non-zero Ricci tensor elements\n",
    "for μ in range(4):\n",
    "    for ν in range(4):\n",
    "        if R[μ, ν] != 0:\n",
    "            latex_print(rf'R_{{{x[μ]}{x[ν]}}}', R[μ, ν])\n",
    "\n",
    "# Ricci scalar\n",
    "R_scalar = sum(g_inv[α, β]*R[β, α] for α in range(4) for β in range(4))\n",
    "latex_print('R', R_scalar)\n",
    "\n",
    "\n",
    "# Einstein equations\n",
    "G = Symbol('G')\n",
    "eqs = np.zeros([4, 4], dtype=object)\n",
    "for μ in range(4):\n",
    "    for ν in range(4):\n",
    "        lhs = R[μ, ν] - Rational(1, 2)*g[μ, ν]*R_scalar\n",
    "        rhs = 8*pi*G*T[μ, ν]\n",
    "        eqs[μ, ν] = Eq(lhs/g[μ, ν], rhs/g[μ, ν])\n",
    "        if (lhs != 0 != rhs) and ... not in {lhs, rhs}:\n",
    "            latex_print(rf'{x[μ]}, {x[ν]}:', eqs[μ, ν])\n",
    "\n"
   ]
  },
  {
   "cell_type": "markdown",
   "id": "d981ba05-3b7b-414b-a875-6f1275a6d8c1",
   "metadata": {},
   "source": [
    "The $16$ Einstein equations above should have boiled down to $2$ independent equations:\n",
    "\n",
    "The Friedmann equation for $\\dot{a} = \\mathrm{d}a(t)/\\mathrm{d}t$ written in terms of $\\rho(t)$.\n",
    "\n",
    "An equation involving both $\\dot{a}$ and $\\ddot{a}$.\n",
    "\n",
    "We still need a few steps if we want to arrive at the familiar form of the Friedmann equation.\n"
   ]
  },
  {
   "cell_type": "markdown",
   "id": "5eb63b60-418f-416b-8f20-f426ba2e881d",
   "metadata": {},
   "source": [
    "\n",
    "<span style=\"color:red; font-weight: bold;\">Step 1:</span> Use the Friedmann equation to get rid of $\\dot{a}$ in the equation involving $\\ddot{a}$, leaving you with the acceleration equation.\n"
   ]
  },
  {
   "cell_type": "code",
   "execution_count": 11,
   "id": "11b5a328-75b0-45cf-8aa2-39d8c9a81d66",
   "metadata": {},
   "outputs": [
    {
     "data": {
      "text/latex": [
       "$\\displaystyle \\frac{\\frac{d^{2}}{d t^{2}} a{\\left(t \\right)}}{a{\\left(t \\right)}} = - \\frac{4 \\pi G \\left(3 P{\\left(t \\right)} + ρ{\\left(t \\right)}\\right)}{3}$"
      ],
      "text/plain": [
       "<IPython.core.display.Math object>"
      ]
     },
     "metadata": {},
     "output_type": "display_data"
    }
   ],
   "source": [
    "\n",
    "eq_time  = eqs[0, 0]\n",
    "eq_space = eqs[1, 1]\n",
    "ȧ2 = diff(a, t   )**2\n",
    "ä  = diff(a, t, 2)\n",
    "ȧ2_expr = solve(eq_time , ȧ2)[0]\n",
    "ä_expr  = solve(eq_space.subs(ȧ2, ȧ2_expr), ä)[0]\n",
    "latex_print(Eq(ä/a, ä_expr/a))\n"
   ]
  },
  {
   "cell_type": "markdown",
   "id": "8c5811f1-3a48-468b-981f-58a9a2ca0936",
   "metadata": {},
   "source": [
    "<span style=\"color:red; font-weight: bold;\">Step 2:</span> Differentiate the Friedmann equation with respect to $t$, then use the Friedmann and acceleration equations to get rid of $\\dot{a}^2$ and $\\ddot{a}$. This gives you a differential equation for $\\dot{\\rho}(t)$ called the continuity equation.\n"
   ]
  },
  {
   "cell_type": "code",
   "execution_count": 14,
   "id": "dadae4b0-8165-4982-a5ff-3a499be1ae68",
   "metadata": {},
   "outputs": [
    {
     "data": {
      "text/latex": [
       "$\\displaystyle \\frac{d}{d t} ρ{\\left(t \\right)} = - \\frac{3 \\left(P{\\left(t \\right)} + ρ{\\left(t \\right)}\\right) \\frac{d}{d t} a{\\left(t \\right)}}{a{\\left(t \\right)}}$"
      ],
      "text/plain": [
       "<IPython.core.display.Math object>"
      ]
     },
     "metadata": {},
     "output_type": "display_data"
    }
   ],
   "source": [
    "lhs = diff(eqs[0,0].rhs, t)\n",
    "rhs = diff(eqs[0,0].lhs, t).subs([(ȧ2, ȧ2_expr), (ä, ä_expr)])\n",
    "continuity = Eq(diff(ρ, t), solve(Eq(lhs, rhs), diff(ρ, t))[0])\n",
    "latex_print(continuity)"
   ]
  },
  {
   "cell_type": "markdown",
   "id": "268512e4-1609-4249-b905-c39c02ffbd79",
   "metadata": {},
   "source": [
    "<span style=\"color:red; font-weight: bold;\">Step 3:</span> We can write the total density in the universe $\\rho(t)$ as a sum of densities of individual species,\n",
    "\n",
    "$\\rho(t) = \\rho_{\\mathrm{r}}(t) + \\rho_{\\mathrm{m}}(t) + \\rho_{\\Lambda}(t) = \\sum_s \\rho_s(t)$\n",
    "\n",
    "The continuity equation for the total $\\rho(t)$ also holds for each $\\rho_s(t)$ individually.\n",
    "Using the general equation of state $P_s(t) = w_s\\rho_s(t)$ (with $w_s$ some constant value for each species) write down the continuity equation for a general species $s$ without mention of the pressure $P_s(t)$.\n"
   ]
  },
  {
   "cell_type": "code",
   "execution_count": 17,
   "id": "bd241058-108f-48b8-aa8d-8248829a7114",
   "metadata": {},
   "outputs": [
    {
     "data": {
      "text/latex": [
       "$\\displaystyle \\frac{d}{d t} ρ_{s}{\\left(t \\right)} = - \\frac{3 \\left(w_{s} + 1\\right) ρ_{s}{\\left(t \\right)} \\frac{d}{d t} a{\\left(t \\right)}}{a{\\left(t \\right)}}$"
      ],
      "text/plain": [
       "<IPython.core.display.Math object>"
      ]
     },
     "metadata": {},
     "output_type": "display_data"
    }
   ],
   "source": [
    "\n",
    "w = Symbol('w', real=True)\n",
    "ws = Symbol('w_s', real=True)\n",
    "ρs = Function('ρ_s')(t)\n",
    "continuity_eos = continuity.subs(P, w*ρ).subs([(ρ, ρs), (w, ws)])\n",
    "latex_print(continuity_eos)\n"
   ]
  },
  {
   "cell_type": "markdown",
   "id": "e446655b-ea8b-4f1d-856d-47d68f37f127",
   "metadata": {},
   "source": [
    "Using seperation of variables, integrate this equation from the present time $t_0$ (with $a(t_0) \\equiv 1$) back to some earlier time $t$. You should get an algebraic equation for $\\rho_s(t)$ in terms of $\\rho_s(t_0)$.\n",
    "\n"
   ]
  },
  {
   "cell_type": "code",
   "execution_count": 20,
   "id": "dbf10942-6fe5-4f18-980c-a3f225dd354b",
   "metadata": {},
   "outputs": [
    {
     "data": {
      "text/latex": [
       "$\\displaystyle ρ_s(t) = a^{- 3 w_{s} - 3}{\\left(t \\right)} ρ_{s}{\\left(t_{0} \\right)}$"
      ],
      "text/plain": [
       "<IPython.core.display.Math object>"
      ]
     },
     "metadata": {},
     "output_type": "display_data"
    }
   ],
   "source": [
    "\n",
    "t0 = Symbol('t_0')\n",
    "lhs = integrate(continuity_eos.lhs/ρs, (t, t0, t))\n",
    "rhs = integrate(continuity_eos.rhs/ρs, (t, t0, t))\n",
    "lhs = exp(lhs)\n",
    "rhs = exp(rhs).subs(a.subs(t, t0), 1)  # a(t0) = 1\n",
    "ρs_expr = solve(Eq(lhs, rhs), ρs)[0]\n",
    "latex_print('ρ_s(t)', ρs_expr)\n"
   ]
  },
  {
   "cell_type": "markdown",
   "id": "dc248459-696b-4b55-861e-8a6b00efbbc9",
   "metadata": {},
   "source": [
    "<span style=\"color:red; font-weight: bold;\">Step 4:</span> With $H(t) \\equiv \\dot{a}/a$ and $H(t_0) \\equiv H_0$, divide the Friedmann equation by itself evaluated at the present time $t_0$. Assuming a flat universe, the current total density $\\rho(t_0)$ is equal to the current critical density, so we may substitute $\\rho(t_0) = \\rho_{\\mathrm{c}0}$. Finally, with $w_{\\mathrm{r}} = 1/3$, $w_{\\mathrm{m}} = 0$, $w_{\\Lambda} = -1$, substitute $\\rho(t)$ for the algebraic expression for $\\rho_{\\mathrm{r}}(t) + \\rho_{\\mathrm{m}}(t) + \\rho_{\\Lambda}(t)$ and write densities in terms of density parameters $\\Omega_{s0} \\equiv \\rho_{s0}/\\rho_{\\mathrm{c}0}$.\n",
    "\n"
   ]
  },
  {
   "cell_type": "code",
   "execution_count": 23,
   "id": "c2e8db49-9d8a-4530-9d3f-887d663d0cf2",
   "metadata": {},
   "outputs": [
    {
     "data": {
      "text/latex": [
       "$\\displaystyle \\frac{H^{2}{\\left(t \\right)}}{H_{0}^{2}} = \\frac{Ω_{m0}}{a^{3}{\\left(t \\right)}} + \\frac{Ω_{r0}}{a^{4}{\\left(t \\right)}} + Ω_{Λ0}$"
      ],
      "text/plain": [
       "<IPython.core.display.Math object>"
      ]
     },
     "metadata": {},
     "output_type": "display_data"
    }
   ],
   "source": [
    "\n",
    "\n",
    "w_values = {\n",
    "    'r': Rational(1, 3),  # radiation\n",
    "    'm':  0,              # matter\n",
    "    'Λ': -1,              # cosmological constant (dark energy)\n",
    "}\n",
    "H = Function('H')(t)\n",
    "H0 = Symbol('H_0')\n",
    "ρc0 = Symbol('ρ_c0')\n",
    "lhs, rhs = eq_time.lhs, eq_time.rhs\n",
    "lhs = simplify(lhs).subs(diff(a, t)**2/a**2, H**2)\n",
    "lhs /= lhs.subs(t, t0).subs(H.subs(t, t0), H0)\n",
    "rhs /= rhs.subs(t, t0).subs(ρ.subs(t, t0), ρc0)\n",
    "rhs = rhs.subs(\n",
    "    ρ,\n",
    "    sum(\n",
    "        ρs_expr.subs([\n",
    "            (ρs.subs(t, t0), f'ρ_{s}0'),\n",
    "            (ws, w_val),\n",
    "        ])\n",
    "        for s, w_val in w_values.items()\n",
    "    ),\n",
    ")\n",
    "rhs = (rhs*ρc0).subs([(f'ρ_{s}0', f'Ω_{s}0') for s in w_values])\n",
    "latex_print(Eq(lhs, rhs))\n",
    "\n",
    "\n"
   ]
  },
  {
   "cell_type": "code",
   "execution_count": null,
   "id": "60e3565e-a20b-4751-8775-829a75efb2e8",
   "metadata": {},
   "outputs": [],
   "source": []
  }
 ],
 "metadata": {
  "kernelspec": {
   "display_name": "Python 3 (ipykernel)",
   "language": "python",
   "name": "python3"
  },
  "language_info": {
   "codemirror_mode": {
    "name": "ipython",
    "version": 3
   },
   "file_extension": ".py",
   "mimetype": "text/x-python",
   "name": "python",
   "nbconvert_exporter": "python",
   "pygments_lexer": "ipython3",
   "version": "3.12.2"
  }
 },
 "nbformat": 4,
 "nbformat_minor": 5
}
