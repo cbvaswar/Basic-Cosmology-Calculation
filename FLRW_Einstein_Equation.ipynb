{
 "cells": [
  {
   "cell_type": "code",
   "execution_count": 1,
   "id": "b99265fd-55ef-4df0-8a77-7e7cc22377ad",
   "metadata": {},
   "outputs": [],
   "source": [
    "from IPython.display import display, Math, Latex\n",
    "import numpy as np\n",
    "from sympy import symbols, Function, Matrix, Rational, simplify, diff, Eq, latex\n",
    "from sympy import Symbol, pi, solve\n"
   ]
  },
  {
   "cell_type": "markdown",
   "id": "22bfbb43-abd9-4225-b489-f30849e70e2c",
   "metadata": {},
   "source": [
    "The Christoffel Symbols can be calculated using the formula:\n",
    "$$ \n",
    "\\Gamma^\\mu_{\\nu\\sigma} = \\frac{1}{2} g^{\\mu\\alpha} \\left( g_{\\sigma\\alpha,\\nu} + g_{\\nu\\alpha,\\sigma} - g_{\\nu\\sigma,\\alpha} \\right)\n",
    "$$\n",
    "\n",
    "where $g_{\\mu \\nu}$ is the metric tensor. For the Freedmann-Robertson-Walker the line element is given by:\n",
    "$ds^2 = -a(t)^2 \\, dt^2 + a(t)^2 \\left( \\frac{dr^2}{1 - kr^2} + r^2 d\\theta^2 + r^2 \\sin^2 \\theta \\, d\\phi^2 \\right)$\n",
    "\n",
    "Hence metric tensor can be read out as:\n",
    "\n",
    "$g_{\\mu \\nu} =\n",
    "\\begin{pmatrix}\n",
    " -a(t)^2 & 0 & 0 & 0 \\\\\n",
    "0 & \\frac{a(t)^2}{1 - kr^2} & 0 & 0 \\\\\n",
    "0 & 0 & a(t)^2 r^2 & 0 \\\\\n",
    "0 & 0 & 0 & a(t)^2 r^2 \\sin^2 \\theta\n",
    "\\end{pmatrix}$\n",
    "\n",
    "\n",
    "Where $a(t)$ is the scale factor as a function of time.\n",
    "$r,\\theta, \\phi$ are the comoving spherical coordinates.\n",
    "$k$ is the curvature parameter, which can be $0, +1 $ or $\n",
    "−1$ corresponding to flat, closed, or open universes, respectively.\n"
   ]
  },
  {
   "cell_type": "markdown",
   "id": "02e425f2-130e-4625-bce5-f7c024cc215e",
   "metadata": {},
   "source": [
    "Metric for a homogeneous and isotropic spacetime written in Cartesian coordinates.\n",
    "Also we will use the universe is flat $k = 0$ and hence in cartesian coordinate basis:\n",
    "\n",
    "$g_{\\mu \\nu} =\n",
    "\\begin{pmatrix}\n",
    " -a(t)^2 & 0 & 0 & 0 \\\\\n",
    "0 & a(t)^2 & 0 & 0 \\\\\n",
    "0 & 0 & a(t)^2 & 0 \\\\\n",
    "0 & 0 & 0 & a(t)^2 \\theta\n",
    "\\end{pmatrix}$"
   ]
  },
  {
   "cell_type": "markdown",
   "id": "a09e0f25-f18c-4187-bfcc-b5106621a417",
   "metadata": {},
   "source": [
    "Now the Christoffel symbols (or connections) can be calculated using the following formula:\n",
    "\n",
    "$\\large  \\Gamma^\\mu_{\\nu\\sigma} = \\large  \\frac{1}{2}g^{\\mu\\alpha}(g_{\\sigma\\alpha,\\nu} + g_{\\nu\\alpha,\\sigma} - g_{\\nu\\sigma,\\alpha})$\n",
    "\n",
    "where $g^{\\mu\\nu}$ is the inverse of $g_{\\mu\\nu}$\n",
    "\n",
    "For more detail follow https://en.wikipedia.org/wiki/Christoffel_symbols"
   ]
  },
  {
   "cell_type": "markdown",
   "id": "dd2a5874-80ef-46ff-b6c2-10c184f0adac",
   "metadata": {},
   "source": [
    "Setting $c=1$, the Einstein (field) equations are:\n",
    "\n",
    "$\\large R_{\\mu\\nu} - \\frac{1}{2}g_{\\mu\\nu}R = 8\\pi G T_{\\mu\\nu}$\n",
    "\n",
    "Refer https://en.wikipedia.org/wiki/Einstein_field_equations\n",
    "\n",
    "Greek indices run over $\\{0, 1, 2, 3\\}$, corresponding to $x^\\mu = [t, x, y, z]$: $x^0 = t$, $x^1 = x$, $x^2 = y$, $x^3 = z$. The above is then really $4\\times 4 = 16$ equations.\n",
    "\n",
    "The Ricci curvature tensor $(R_{\\mu \\nu})$ and scalar ($R$)\n",
    "\n",
    "$\\large R_{\\mu\\nu} = \\large  \\Gamma^\\alpha_{\\mu\\nu,\\alpha} - \\Gamma^\\alpha_{\\nu\\alpha,\\mu} + \\Gamma^\\alpha_{\\alpha\\beta}\\Gamma^\\beta_{\\mu\\nu} - \\Gamma^\\alpha_{\\mu\\beta}\\Gamma^\\beta_{\\alpha\\nu}$\n",
    "\n",
    "and\n",
    "\n",
    "$\\large{R} = \\large R^\\alpha_\\alpha = g^{\\alpha\\beta}R_{\\alpha\\beta}$\n",
    "\n",
    "More detail refer: https://en.wikipedia.org/wiki/Ricci_curvature#Definition_via_local_coordinates_on_a_smooth_manifold"
   ]
  },
  {
   "cell_type": "code",
   "execution_count": 7,
   "id": "e066351f-87d6-47c1-acee-0275d6d2d965",
   "metadata": {},
   "outputs": [],
   "source": [
    "\n",
    "\n",
    "class FLRWModel:\n",
    "    def __init__(self):\n",
    "        # Define Cartesian coordinates\n",
    "        self.x = symbols('t x y z')\n",
    "        self.t = self.x[0]\n",
    "        \n",
    "        # Define the scale factor as a function of time\n",
    "        self.a = Function('a', positive=True)(self.t)\n",
    "        \n",
    "        # Define the metric tensor\n",
    "        self.g = Matrix([\n",
    "            [-1,  0,    0,    0],\n",
    "            [ 0, self.a**2,  0,    0],\n",
    "            [ 0,  0,  self.a**2,   0],\n",
    "            [ 0,  0,    0,  self.a**2]\n",
    "        ])\n",
    "        \n",
    "        # Compute the inverse metric\n",
    "        self.g_inv = self.g.inv()\n",
    "        \n",
    "        # Define the stress-energy tensor components\n",
    "        self.rho = Function('rho')(self.t)\n",
    "        self.P = Function('P')(self.t)\n",
    "        self.u = [-1, 0, 0, 0]\n",
    "        self.T = Matrix(4, 4, lambda i, j: (self.rho + self.P)*self.u[i]*self.u[j] + self.P*self.g[i, j])\n",
    "        \n",
    "        # Initialize Christoffel symbols and Ricci tensor\n",
    "        self.Gamma = np.zeros((4, 4, 4), dtype=object)\n",
    "        self.Ricci_tensor = np.zeros((4, 4), dtype=object)\n",
    "        self.Ricci_scalar = None\n",
    "\n",
    "    def latex_print(self, lhs, rhs=None):\n",
    "        \"\"\"Displays LaTeX-formatted equations or expressions.\"\"\"\n",
    "        if rhs is None:\n",
    "            display(Math(f\"{lhs} = {latex(simplify(lhs))}\"))\n",
    "        else:\n",
    "            display(Math(f\"{lhs} = {latex(simplify(rhs))}\"))\n",
    "\n",
    "    def compute_christoffel_symbols(self):\n",
    "        \"\"\"Compute the Christoffel symbols for the metric.\"\"\"\n",
    "        for mu in range(4):\n",
    "            for nu in range(4):\n",
    "                for sigma in range(4):\n",
    "                    self.Gamma[mu, nu, sigma] = Rational(1, 2) * sum(\n",
    "                        self.g_inv[mu, alpha] * (\n",
    "                            diff(self.g[sigma, alpha], self.x[nu]) +\n",
    "                            diff(self.g[nu, alpha], self.x[sigma]) -\n",
    "                            diff(self.g[nu, sigma], self.x[alpha])\n",
    "                        ) for alpha in range(4)\n",
    "                    )\n",
    "\n",
    "    def display_christoffel_symbols(self):\n",
    "        \"\"\"Display the non-zero Christoffel symbols.\"\"\"\n",
    "        for mu in range(4):\n",
    "            for nu in range(4):\n",
    "                for sigma in range(4):\n",
    "                    if self.Gamma[mu, nu, sigma] != 0:\n",
    "                        self.latex_print(f\"\\\\Gamma^{{{self.x[mu]}}}_{{{self.x[nu]}{self.x[sigma]}}}\", self.Gamma[mu, nu, sigma])\n",
    "\n",
    "    def compute_ricci_tensor(self):\n",
    "        \"\"\"Compute the Ricci tensor using the Christoffel symbols.\"\"\"\n",
    "        for mu in range(4):\n",
    "            for nu in range(4):\n",
    "                self.Ricci_tensor[mu, nu] = (\n",
    "                    sum(diff(self.Gamma[alpha, mu, nu], self.x[alpha]) for alpha in range(4)) -\n",
    "                    sum(diff(self.Gamma[alpha, nu, alpha], self.x[mu]) for alpha in range(4)) +\n",
    "                    sum(self.Gamma[alpha, alpha, beta] * self.Gamma[beta, mu, nu] for alpha in range(4) for beta in range(4)) -\n",
    "                    sum(self.Gamma[alpha, mu, beta] * self.Gamma[beta, alpha, nu] for alpha in range(4) for beta in range(4))\n",
    "                )\n",
    "\n",
    "    def display_ricci_tensor(self):\n",
    "        \"\"\"Display the non-zero elements of the Ricci tensor.\"\"\"\n",
    "        for mu in range(4):\n",
    "            for nu in range(4):\n",
    "                if self.Ricci_tensor[mu, nu] != 0:\n",
    "                    self.latex_print(f\"R_{{{self.x[mu]}{self.x[nu]}}}\", self.Ricci_tensor[mu, nu])\n",
    "\n",
    "    def compute_ricci_scalar(self):\n",
    "        \"\"\"Compute the Ricci scalar by contracting the Ricci tensor with the inverse metric.\"\"\"\n",
    "        self.Ricci_scalar = sum(self.g_inv[alpha, beta] * self.Ricci_tensor[beta, alpha] for alpha in range(4) for beta in range(4))\n",
    "        self.latex_print(\"R\", self.Ricci_scalar)\n",
    "\n",
    "    def run(self):\n",
    "        \"\"\"Run all computations and display results.\"\"\"\n",
    "        self.latex_print(\"g_{\\\\mu\\\\nu}\", self.g)\n",
    "        self.latex_print(\"g^{\\\\mu\\\\nu}\", self.g_inv)\n",
    "        self.latex_print(\"T_{\\\\mu\\\\nu}\", self.T)\n",
    "        \n",
    "        self.compute_christoffel_symbols()\n",
    "        self.display_christoffel_symbols()\n",
    "        \n",
    "        self.compute_ricci_tensor()\n",
    "        self.display_ricci_tensor()\n",
    "        \n",
    "        self.compute_ricci_scalar()\n",
    "\n",
    "\n"
   ]
  },
  {
   "cell_type": "code",
   "execution_count": 9,
   "id": "e2c18bb0-65f8-4558-b10f-890a0c5a6355",
   "metadata": {},
   "outputs": [
    {
     "data": {
      "text/latex": [
       "$\\displaystyle g_{\\mu\\nu} = \\left[\\begin{matrix}-1 & 0 & 0 & 0\\\\0 & a^{2}{\\left(t \\right)} & 0 & 0\\\\0 & 0 & a^{2}{\\left(t \\right)} & 0\\\\0 & 0 & 0 & a^{2}{\\left(t \\right)}\\end{matrix}\\right]$"
      ],
      "text/plain": [
       "<IPython.core.display.Math object>"
      ]
     },
     "metadata": {},
     "output_type": "display_data"
    },
    {
     "data": {
      "text/latex": [
       "$\\displaystyle g^{\\mu\\nu} = \\left[\\begin{matrix}-1 & 0 & 0 & 0\\\\0 & \\frac{1}{a^{2}{\\left(t \\right)}} & 0 & 0\\\\0 & 0 & \\frac{1}{a^{2}{\\left(t \\right)}} & 0\\\\0 & 0 & 0 & \\frac{1}{a^{2}{\\left(t \\right)}}\\end{matrix}\\right]$"
      ],
      "text/plain": [
       "<IPython.core.display.Math object>"
      ]
     },
     "metadata": {},
     "output_type": "display_data"
    },
    {
     "data": {
      "text/latex": [
       "$\\displaystyle T_{\\mu\\nu} = \\left[\\begin{matrix}\\rho{\\left(t \\right)} & 0 & 0 & 0\\\\0 & P{\\left(t \\right)} a^{2}{\\left(t \\right)} & 0 & 0\\\\0 & 0 & P{\\left(t \\right)} a^{2}{\\left(t \\right)} & 0\\\\0 & 0 & 0 & P{\\left(t \\right)} a^{2}{\\left(t \\right)}\\end{matrix}\\right]$"
      ],
      "text/plain": [
       "<IPython.core.display.Math object>"
      ]
     },
     "metadata": {},
     "output_type": "display_data"
    },
    {
     "data": {
      "text/latex": [
       "$\\displaystyle \\Gamma^{t}_{xx} = a{\\left(t \\right)} \\frac{d}{d t} a{\\left(t \\right)}$"
      ],
      "text/plain": [
       "<IPython.core.display.Math object>"
      ]
     },
     "metadata": {},
     "output_type": "display_data"
    },
    {
     "data": {
      "text/latex": [
       "$\\displaystyle \\Gamma^{t}_{yy} = a{\\left(t \\right)} \\frac{d}{d t} a{\\left(t \\right)}$"
      ],
      "text/plain": [
       "<IPython.core.display.Math object>"
      ]
     },
     "metadata": {},
     "output_type": "display_data"
    },
    {
     "data": {
      "text/latex": [
       "$\\displaystyle \\Gamma^{t}_{zz} = a{\\left(t \\right)} \\frac{d}{d t} a{\\left(t \\right)}$"
      ],
      "text/plain": [
       "<IPython.core.display.Math object>"
      ]
     },
     "metadata": {},
     "output_type": "display_data"
    },
    {
     "data": {
      "text/latex": [
       "$\\displaystyle \\Gamma^{x}_{tx} = \\frac{\\frac{d}{d t} a{\\left(t \\right)}}{a{\\left(t \\right)}}$"
      ],
      "text/plain": [
       "<IPython.core.display.Math object>"
      ]
     },
     "metadata": {},
     "output_type": "display_data"
    },
    {
     "data": {
      "text/latex": [
       "$\\displaystyle \\Gamma^{x}_{xt} = \\frac{\\frac{d}{d t} a{\\left(t \\right)}}{a{\\left(t \\right)}}$"
      ],
      "text/plain": [
       "<IPython.core.display.Math object>"
      ]
     },
     "metadata": {},
     "output_type": "display_data"
    },
    {
     "data": {
      "text/latex": [
       "$\\displaystyle \\Gamma^{y}_{ty} = \\frac{\\frac{d}{d t} a{\\left(t \\right)}}{a{\\left(t \\right)}}$"
      ],
      "text/plain": [
       "<IPython.core.display.Math object>"
      ]
     },
     "metadata": {},
     "output_type": "display_data"
    },
    {
     "data": {
      "text/latex": [
       "$\\displaystyle \\Gamma^{y}_{yt} = \\frac{\\frac{d}{d t} a{\\left(t \\right)}}{a{\\left(t \\right)}}$"
      ],
      "text/plain": [
       "<IPython.core.display.Math object>"
      ]
     },
     "metadata": {},
     "output_type": "display_data"
    },
    {
     "data": {
      "text/latex": [
       "$\\displaystyle \\Gamma^{z}_{tz} = \\frac{\\frac{d}{d t} a{\\left(t \\right)}}{a{\\left(t \\right)}}$"
      ],
      "text/plain": [
       "<IPython.core.display.Math object>"
      ]
     },
     "metadata": {},
     "output_type": "display_data"
    },
    {
     "data": {
      "text/latex": [
       "$\\displaystyle \\Gamma^{z}_{zt} = \\frac{\\frac{d}{d t} a{\\left(t \\right)}}{a{\\left(t \\right)}}$"
      ],
      "text/plain": [
       "<IPython.core.display.Math object>"
      ]
     },
     "metadata": {},
     "output_type": "display_data"
    },
    {
     "data": {
      "text/latex": [
       "$\\displaystyle R_{tt} = - \\frac{3 \\frac{d^{2}}{d t^{2}} a{\\left(t \\right)}}{a{\\left(t \\right)}}$"
      ],
      "text/plain": [
       "<IPython.core.display.Math object>"
      ]
     },
     "metadata": {},
     "output_type": "display_data"
    },
    {
     "data": {
      "text/latex": [
       "$\\displaystyle R_{xx} = a{\\left(t \\right)} \\frac{d^{2}}{d t^{2}} a{\\left(t \\right)} + 2 \\left(\\frac{d}{d t} a{\\left(t \\right)}\\right)^{2}$"
      ],
      "text/plain": [
       "<IPython.core.display.Math object>"
      ]
     },
     "metadata": {},
     "output_type": "display_data"
    },
    {
     "data": {
      "text/latex": [
       "$\\displaystyle R_{yy} = a{\\left(t \\right)} \\frac{d^{2}}{d t^{2}} a{\\left(t \\right)} + 2 \\left(\\frac{d}{d t} a{\\left(t \\right)}\\right)^{2}$"
      ],
      "text/plain": [
       "<IPython.core.display.Math object>"
      ]
     },
     "metadata": {},
     "output_type": "display_data"
    },
    {
     "data": {
      "text/latex": [
       "$\\displaystyle R_{zz} = a{\\left(t \\right)} \\frac{d^{2}}{d t^{2}} a{\\left(t \\right)} + 2 \\left(\\frac{d}{d t} a{\\left(t \\right)}\\right)^{2}$"
      ],
      "text/plain": [
       "<IPython.core.display.Math object>"
      ]
     },
     "metadata": {},
     "output_type": "display_data"
    },
    {
     "data": {
      "text/latex": [
       "$\\displaystyle R = \\frac{6 \\left(a{\\left(t \\right)} \\frac{d^{2}}{d t^{2}} a{\\left(t \\right)} + \\left(\\frac{d}{d t} a{\\left(t \\right)}\\right)^{2}\\right)}{a^{2}{\\left(t \\right)}}$"
      ],
      "text/plain": [
       "<IPython.core.display.Math object>"
      ]
     },
     "metadata": {},
     "output_type": "display_data"
    }
   ],
   "source": [
    "# Create an instance of the FLRWModel class and run the computations\n",
    "model = FLRWModel()\n",
    "model.run()"
   ]
  },
  {
   "cell_type": "markdown",
   "id": "7ef50889-2afa-4475-a611-a22a626c7811",
   "metadata": {},
   "source": [
    "In case of spherical coordinate system"
   ]
  },
  {
   "cell_type": "code",
   "execution_count": 12,
   "id": "f95a77d6-1cae-477d-bf03-e206a95a26ae",
   "metadata": {},
   "outputs": [
    {
     "name": "stdout",
     "output_type": "stream",
     "text": [
      "\n",
      "--- Christoffel Symbols ---\n",
      "Γ^t_{rr} = -1.0*a(t)*Derivative(a(t), t)/(k*r**2 - 1)\n",
      "Γ^t_{\\theta\\theta} = 1.0*r**2*a(t)*Derivative(a(t), t)\n",
      "Γ^t_{\\phi\\phi} = 1.0*r**2*a(t)*sin(\\theta)**2*Derivative(a(t), t)\n",
      "Γ^r_{tr} = 1.0*Derivative(a(t), t)/a(t)\n",
      "Γ^r_{rt} = 1.0*Derivative(a(t), t)/a(t)\n",
      "Γ^r_{rr} = -1.0*k*r/(k*r**2 - 1)\n",
      "Γ^r_{\\theta\\theta} = 1.0*r*(k*r**2 - 1)\n",
      "Γ^r_{\\phi\\phi} = 1.0*r*(k*r**2 - 1)*sin(\\theta)**2\n",
      "Γ^\\theta_{t\\theta} = 1.0*Derivative(a(t), t)/a(t)\n",
      "Γ^\\theta_{r\\theta} = 1.0/r\n",
      "Γ^\\theta_{\\thetat} = 1.0*Derivative(a(t), t)/a(t)\n",
      "Γ^\\theta_{\\thetar} = 1.0/r\n",
      "Γ^\\theta_{\\phi\\phi} = -0.5*sin(2*\\theta)\n",
      "Γ^\\phi_{t\\phi} = 1.0*Derivative(a(t), t)/a(t)\n",
      "Γ^\\phi_{r\\phi} = 1.0/r\n",
      "Γ^\\phi_{\\theta\\phi} = 1.0/tan(\\theta)\n",
      "Γ^\\phi_{\\phit} = 1.0*Derivative(a(t), t)/a(t)\n",
      "Γ^\\phi_{\\phir} = 1.0/r\n",
      "Γ^\\phi_{\\phi\\theta} = 1.0/tan(\\theta)\n",
      "\n",
      "--- Ricci Tensor ---\n",
      "R_{tt} = (3.0*k*r**2 + 1.0*r**2*(k*r**2 - 1)*(cos(\\theta)**2 - 2)*a(t)**2 + 1.0*a(t)**2 - 3.0)*Derivative(a(t), t)**2/((k*r**2 - 1)*a(t)**2)\n",
      "R_{tr} = (1.0*r**2*(k*r**2 - 1)*(cos(\\theta)**2 - 2) + 2.0)*Derivative(a(t), t)/(r*a(t))\n",
      "R_{t\\theta} = (0.5*sin(2*\\theta) + 1.0/tan(\\theta))*Derivative(a(t), t)/a(t)\n",
      "R_{rt} = (-1.0*k*r**2*(k*r**2 - 1) - 3.0*k*r**2*a(t)**2 + 1.0*r**2*(k*r**2 - 1)**2*(cos(\\theta)**2 - 2)*a(t)**2 + 2.0*(k*r**2 - 1)**2)*Derivative(a(t), t)/(r*(k*r**2 - 1)**2*a(t))\n",
      "R_{rr} = (1.0*r**2*(k*r**2 - 1)*(-k*r**2 + (-k*r**2 + 1)*sin(\\theta)**2 + 1)*a(t) - 1.0*r**2*(k*r**2 - 1)*Derivative(a(t), (t, 2)) - r**2*(1.0*a(t)*Derivative(a(t), (t, 2)) + 2.0*Derivative(a(t), t)**2)*a(t) + 2.0*(k*r**2 - 1)*a(t))/(r**2*(k*r**2 - 1)*a(t))\n",
      "R_{r\\theta} = (0.5*sin(2*\\theta) + 1.0/tan(\\theta))/r\n",
      "R_{\\thetat} = 1.0*(-r**2*a(t)**2*sin(\\theta)**2 + 1)*Derivative(a(t), t)/(a(t)*tan(\\theta))\n",
      "R_{\\thetar} = 1.0*(-r**2*(k*r**2 - 1)*sin(\\theta)**2 + 1)/(r*tan(\\theta))\n",
      "R_{\\theta\\theta} = 4.0*k*r**2 + 1.0*r**2*a(t)*Derivative(a(t), (t, 2)) + 2.0*r**2*Derivative(a(t), t)**2 + 0.5*sin(2*\\theta)/tan(\\theta) - 2.0 + 1.0/tan(\\theta)**2 - 1.0*Derivative(a(t), (t, 2))/a(t)\n",
      "R_{\\phi\\phi} = -2.0*k*r**2*cos(2*\\theta) + 2.0*k*r**2 - 0.5*r**2*a(t)*cos(2*\\theta)*Derivative(a(t), (t, 2)) + 0.5*r**2*a(t)*Derivative(a(t), (t, 2)) - 1.0*r**2*cos(2*\\theta)*Derivative(a(t), t)**2 + 1.0*r**2*Derivative(a(t), t)**2 - 0.5*sin(2*\\theta)/tan(\\theta) - 1.0*Derivative(a(t), (t, 2))/a(t)\n",
      "\n",
      "--- Ricci Scalar ---\n",
      "R = (0.5*k**3*r**8*a(t)*cos(2*\\theta) - 1.5*k**3*r**8*a(t) - 1.5*k**2*r**6*a(t)*cos(2*\\theta) + 4.5*k**2*r**6*a(t) - 1.0*k**2*r**6*Derivative(a(t), (t, 2)) - 6.0*k**2*r**4*a(t) + 0.5*k*r**6*a(t)**3*cos(2*\\theta)*Derivative(a(t), t)**2 - 1.5*k*r**6*a(t)**3*Derivative(a(t), t)**2 - 3.0*k*r**4*a(t)**2*Derivative(a(t), (t, 2)) + 1.5*k*r**4*a(t)*cos(2*\\theta) - 3.0*k*r**4*a(t)*Derivative(a(t), t)**2 - 4.5*k*r**4*a(t) + 2.0*k*r**4*Derivative(a(t), (t, 2)) - 0.5*k*r**2*a(t)*sin(2*\\theta)/tan(\\theta) + 6.0*k*r**2*a(t) - 1.0*k*r**2*a(t)/sin(\\theta)**2 + 1.0*k*r**2*Derivative(a(t), (t, 2)) + 2.0*k*r**2*a(t)/(1 - cos(2*\\theta)) + 2.0*k*r**2*Derivative(a(t), (t, 2))/(1 - cos(2*\\theta)) - 0.5*r**4*a(t)**3*cos(2*\\theta)*Derivative(a(t), t)**2 + 1.5*r**4*a(t)**3*Derivative(a(t), t)**2 + 1.0*r**2*a(t)**3*Derivative(a(t), t)**2 + 3.0*r**2*a(t)**2*Derivative(a(t), (t, 2)) - 0.5*r**2*a(t)*cos(2*\\theta) + 3.0*r**2*a(t)*Derivative(a(t), t)**2 + 1.5*r**2*a(t) - 1.0*r**2*Derivative(a(t), (t, 2)) + 0.5*a(t)*sin(2*\\theta)/tan(\\theta) + 1.0*a(t)/sin(\\theta)**2 - 1.0*Derivative(a(t), (t, 2)) - 2.0*a(t)/(1 - cos(2*\\theta)) - 2.0*Derivative(a(t), (t, 2))/(1 - cos(2*\\theta)))/(r**2*(k*r**2 - 1)*a(t)**3)\n",
      "\n",
      "--- Einstein Tensor ---\n",
      "G_{tt} = (-0.5*k**3*r**8*a(t)*cos(\\theta)**2 + 1.0*k**3*r**8*a(t) + 1.5*k**2*r**6*a(t)*cos(\\theta)**2 - 3.0*k**2*r**6*a(t) - 6.24500451351651e-17*k**2*r**6*a(t)/sin(\\theta)**2 + 0.5*k**2*r**6*Derivative(a(t), (t, 2)) + 3.0*k**2*r**4*a(t) + 0.5*k*r**6*a(t)**3*cos(\\theta)**2*Derivative(a(t), t)**2 - 1.0*k*r**6*a(t)**3*Derivative(a(t), t)**2 - 6.24500451351651e-17*k*r**6*a(t)**3*Derivative(a(t), t)**2/sin(\\theta)**2 + 1.5*k*r**4*a(t)**2*Derivative(a(t), (t, 2)) - 1.5*k*r**4*a(t)*cos(\\theta)**2 + 4.5*k*r**4*a(t)*Derivative(a(t), t)**2 + 3.0*k*r**4*a(t) - 1.0*k*r**4*Derivative(a(t), (t, 2)) + 0.5*k*r**2*a(t)*cos(\\theta)**2 - 3.0*k*r**2*a(t) - 0.5*k*r**2*Derivative(a(t), (t, 2)) - 0.5*k*r**2*Derivative(a(t), (t, 2))/sin(\\theta)**2 - 0.5*r**4*a(t)**3*cos(\\theta)**2*Derivative(a(t), t)**2 + 1.0*r**4*a(t)**3*Derivative(a(t), t)**2 + 6.24500451351651e-17*r**4*a(t)**3*Derivative(a(t), t)**2/sin(\\theta)**2 + 0.5*r**2*a(t)**3*Derivative(a(t), t)**2 - 1.5*r**2*a(t)**2*Derivative(a(t), (t, 2)) + 0.5*r**2*a(t)*cos(\\theta)**2 - 4.5*r**2*a(t)*Derivative(a(t), t)**2 - 1.0*r**2*a(t) + 0.5*r**2*Derivative(a(t), (t, 2)) - 0.5*a(t)*cos(\\theta)**2 + 0.5*Derivative(a(t), (t, 2)) + 0.5*Derivative(a(t), (t, 2))/sin(\\theta)**2)/(r**2*(k*r**2 - 1)*a(t)**3)\n",
      "G_{tr} = (1.0*r**2*(k*r**2 - 1)*(cos(\\theta)**2 - 2) + 2.0)*Derivative(a(t), t)/(r*a(t))\n",
      "G_{t\\theta} = (0.5*sin(2*\\theta) + 1.0/tan(\\theta))*Derivative(a(t), t)/a(t)\n",
      "G_{rt} = -(1.0*k*r**2*(k*r**2 - 1) + 3.0*k*r**2*a(t)**2 - r**2*(k*r**2 - 1)**2*(1.0*cos(\\theta)**2 - 2.0)*a(t)**2 - 2.0*(k*r**2 - 1)**2)*Derivative(a(t), t)/(r*(k*r**2 - 1)**2*a(t))\n",
      "G_{rr} = (-0.5*k**3*r**8*a(t)*sin(\\theta)**2 - 0.5*k**3*r**8*a(t) + 1.5*k**2*r**6*a(t)*sin(\\theta)**2 + 1.5*k**2*r**6*a(t) - 0.5*k**2*r**6*Derivative(a(t), (t, 2)) + 5.0*k**2*r**4*a(t) + 0.5*k*r**6*a(t)**3*sin(\\theta)**2*Derivative(a(t), t)**2 + 0.5*k*r**6*a(t)**3*Derivative(a(t), t)**2 + 0.5*k*r**4*a(t)**2*Derivative(a(t), (t, 2)) - 1.5*k*r**4*a(t)*sin(\\theta)**2 - 0.5*k*r**4*a(t)*Derivative(a(t), t)**2 - 1.5*k*r**4*a(t) + 1.0*k*r**4*Derivative(a(t), (t, 2)) - 0.5*k*r**2*a(t)*sin(\\theta)**2 - 6.5*k*r**2*a(t) - 0.5*k*r**2*Derivative(a(t), (t, 2)) - 0.5*k*r**2*Derivative(a(t), (t, 2))/sin(\\theta)**2 - 0.5*r**4*a(t)**3*sin(\\theta)**2*Derivative(a(t), t)**2 - 0.5*r**4*a(t)**3*Derivative(a(t), t)**2 - 0.5*r**2*a(t)**3*Derivative(a(t), t)**2 - 0.5*r**2*a(t)**2*Derivative(a(t), (t, 2)) + 0.5*r**2*a(t)*sin(\\theta)**2 + 0.5*r**2*a(t)*Derivative(a(t), t)**2 + 0.5*r**2*a(t) - 0.5*r**2*Derivative(a(t), (t, 2)) + 0.5*a(t)*sin(\\theta)**2 + 1.5*a(t) + 0.5*Derivative(a(t), (t, 2)) + 0.5*Derivative(a(t), (t, 2))/sin(\\theta)**2)/(r**2*(k*r**2 - 1)**2*a(t))\n",
      "G_{r\\theta} = (0.5*sin(2*\\theta) + 1.0/tan(\\theta))/r\n",
      "G_{\\thetat} = 1.0*(-r**2*a(t)**2*sin(\\theta)**2 + 1)*Derivative(a(t), t)/(a(t)*tan(\\theta))\n",
      "G_{\\thetar} = 1.0*(r**2*(-k*r**2 + 1)*sin(\\theta)**2 + 1)/(r*tan(\\theta))\n",
      "G_{\\theta\\theta} = (-0.5*k**3*r**8*a(t)*sin(\\theta)**2 - 0.5*k**3*r**8*a(t) + 1.5*k**2*r**6*a(t)*sin(\\theta)**2 + 1.5*k**2*r**6*a(t) - 0.5*k**2*r**6*Derivative(a(t), (t, 2)) + 1.0*k**2*r**4*a(t) - 0.5*k*r**6*a(t)**3*sin(\\theta)**2*Derivative(a(t), t)**2 - 0.5*k*r**6*a(t)**3*Derivative(a(t), t)**2 - 0.5*k*r**4*a(t)**2*Derivative(a(t), (t, 2)) - 1.5*k*r**4*a(t)*sin(\\theta)**2 + 0.5*k*r**4*a(t)*Derivative(a(t), t)**2 - 1.5*k*r**4*a(t) + 1.0*k*r**4*Derivative(a(t), (t, 2)) - 0.5*k*r**2*a(t)*sin(\\theta)**2 - 2.5*k*r**2*a(t) + 1.0*k*r**2*a(t)/tan(\\theta)**2 + 0.5*k*r**2*Derivative(a(t), (t, 2))/tan(\\theta)**2 + 0.5*r**4*a(t)**3*sin(\\theta)**2*Derivative(a(t), t)**2 + 0.5*r**4*a(t)**3*Derivative(a(t), t)**2 + 2.08166817117217e-17*r**4*a(t)**3*Derivative(a(t), t)**2/tan(\\theta)**2 + 0.5*r**2*a(t)**3*Derivative(a(t), t)**2 + 0.5*r**2*a(t)**2*Derivative(a(t), (t, 2)) + 0.5*r**2*a(t)*sin(\\theta)**2 - 0.5*r**2*a(t)*Derivative(a(t), t)**2 + 0.5*r**2*a(t) + 2.08166817117217e-17*r**2*a(t)/tan(\\theta)**2 - 0.5*r**2*Derivative(a(t), (t, 2)) + 0.5*a(t)*sin(\\theta)**2 + 1.5*a(t) - 1.0*a(t)/tan(\\theta)**2 - 0.5*Derivative(a(t), (t, 2))/tan(\\theta)**2)/((k*r**2 - 1)*a(t))\n",
      "G_{\\phi\\phi} = (-2*r**2*(k*r**2 - 1)*(4.0*k + 1.0*a(t)*Derivative(a(t), (t, 2)) + 2.0*Derivative(a(t), t)**2)*a(t)*sin(\\theta)**5/cos(\\theta) + 0.5*(-k*r**2 + 1)*(cos(2*\\theta) - 1)*a(t)*tan(\\theta) - 1.0*(-k*r**2 + 1)*a(t)*sin(\\theta)**5*cos(\\theta) - 1.0*(k*r**2 - 1)*(cos(2*\\theta) - 1)*tan(\\theta)*Derivative(a(t), (t, 2)) + 2.0*(k*r**2 - 1)*a(t)*sin(\\theta)**3*cos(\\theta) + 0.5*(cos(2*\\theta) - 1)*(0.5*k**3*r**8*a(t)*cos(2*\\theta) - 1.5*k**3*r**8*a(t) - 1.5*k**2*r**6*a(t)*cos(2*\\theta) + 4.5*k**2*r**6*a(t) - 1.0*k**2*r**6*Derivative(a(t), (t, 2)) - 6.0*k**2*r**4*a(t) + 0.5*k*r**6*a(t)**3*cos(2*\\theta)*Derivative(a(t), t)**2 - 1.5*k*r**6*a(t)**3*Derivative(a(t), t)**2 - 3.0*k*r**4*a(t)**2*Derivative(a(t), (t, 2)) + 1.5*k*r**4*a(t)*cos(2*\\theta) - 3.0*k*r**4*a(t)*Derivative(a(t), t)**2 - 4.5*k*r**4*a(t) + 2.0*k*r**4*Derivative(a(t), (t, 2)) + 6.0*k*r**2*a(t) + 1.0*k*r**2*Derivative(a(t), (t, 2)) - 0.5*r**4*a(t)**3*cos(2*\\theta)*Derivative(a(t), t)**2 + 1.5*r**4*a(t)**3*Derivative(a(t), t)**2 + 1.0*r**2*a(t)**3*Derivative(a(t), t)**2 + 3.0*r**2*a(t)**2*Derivative(a(t), (t, 2)) - 0.5*r**2*a(t)*cos(2*\\theta) + 3.0*r**2*a(t)*Derivative(a(t), t)**2 + 1.5*r**2*a(t) - 1.0*r**2*Derivative(a(t), (t, 2)) - 1.0*Derivative(a(t), (t, 2)))*sin(\\theta)**2*tan(\\theta) + 1.0*(-k*r**2*a(t) - k*r**2*Derivative(a(t), (t, 2)) + a(t) + Derivative(a(t), (t, 2)))*sin(\\theta)**2*tan(\\theta))/((k*r**2 - 1)*(cos(2*\\theta) - 1)*a(t)*tan(\\theta))\n"
     ]
    }
   ],
   "source": [
    "import sympy as sym\n",
    "\n",
    "class FRWCalculator:\n",
    "    def __init__(self):\n",
    "        # Define coordinates and metric components\n",
    "        self.dim = 4\n",
    "        self.t, self.r, self.theta, self.phi = sym.symbols(r't r \\theta \\phi')\n",
    "        self.coors = [self.t, self.r, self.theta, self.phi]\n",
    "        self.a = sym.Function('a')(self.t)\n",
    "        self.k = sym.symbols('k')\n",
    "\n",
    "        # FRW metric for non-flat spatial curvature\n",
    "        self.metric = sym.diag(1, -self.a**2 / (1 - self.k * self.r**2),\n",
    "                               -self.a**2 * self.r**2,\n",
    "                               -self.a**2 * self.r**2 * sym.sin(self.theta)**2)\n",
    "        self.g_inv = self.metric.inv()  # Inverse metric\n",
    "        self.det_g = self.metric.det()  # Determinant of the metric\n",
    "\n",
    "        # Allocate space for tensors\n",
    "        self.gamma = sym.MutableDenseNDimArray([0] * self.dim**3, (self.dim, self.dim, self.dim))\n",
    "        self.ricci_tensor = sym.MutableDenseNDimArray([0] * self.dim**2, (self.dim, self.dim))\n",
    "        self.ricci_scalar = 0\n",
    "        self.einstein_tensor = sym.MutableDenseNDimArray([0] * self.dim**2, (self.dim, self.dim))\n",
    "\n",
    "    def compute_christoffel_symbols(self):\n",
    "        r\"\"\" Compute Christoffel symbols \\Gamma^i_{jk} \"\"\"\n",
    "        for i in range(self.dim):\n",
    "            for j in range(self.dim):\n",
    "                for k in range(self.dim):\n",
    "                    term = 0\n",
    "                    for l in range(self.dim):\n",
    "                        term += (sym.diff(self.metric[j, l], self.coors[k]) +\n",
    "                                 sym.diff(self.metric[k, l], self.coors[j]) -\n",
    "                                 sym.diff(self.metric[j, k], self.coors[l])) * self.g_inv[l, i]\n",
    "                    self.gamma[i, j, k] = sym.simplify(1 / 2 * term)\n",
    "\n",
    "    def compute_ricci_tensor(self):\n",
    "        \"\"\" Compute Ricci tensor R_{ij} \"\"\"\n",
    "        for i in range(self.dim):\n",
    "            for j in range(self.dim):\n",
    "                term = 0\n",
    "                for k in range(self.dim):\n",
    "                    term += (sym.diff(self.gamma[k, i, j], self.coors[k]) -\n",
    "                             sym.diff(self.gamma[j, i, k], self.coors[k]))\n",
    "                    for l in range(self.dim):\n",
    "                        term += (self.gamma[k, l, i] * self.gamma[l, j, k] -\n",
    "                                 self.gamma[j, l, k] * self.gamma[l, i, k])\n",
    "                self.ricci_tensor[i, j] = sym.simplify(term)\n",
    "\n",
    "    def compute_ricci_scalar(self):\n",
    "        \"\"\" Compute Ricci scalar R \"\"\"\n",
    "        self.ricci_scalar = sym.simplify(sum(self.g_inv[i, j] * self.ricci_tensor[i, j]\n",
    "                                              for i in range(self.dim) for j in range(self.dim)))\n",
    "\n",
    "    def compute_einstein_tensor(self):\n",
    "        \"\"\" Compute Einstein tensor G_{ij} \"\"\"\n",
    "        for i in range(self.dim):\n",
    "            for j in range(self.dim):\n",
    "                self.einstein_tensor[i, j] = sym.simplify(self.ricci_tensor[i, j] -\n",
    "                                                          1 / 2 * self.ricci_scalar * self.metric[i, j])\n",
    "\n",
    "    def display_results(self):\n",
    "        \"\"\" Display Christoffel symbols, Ricci tensor, Ricci scalar, and Einstein tensor \"\"\"\n",
    "        print(\"\\n--- Christoffel Symbols ---\")\n",
    "        for i in range(self.dim):\n",
    "            for j in range(self.dim):\n",
    "                for k in range(self.dim):\n",
    "                    if self.gamma[i, j, k] != 0:\n",
    "                        print(f\"\\u0393^{self.coors[i]}_{{{self.coors[j]}{self.coors[k]}}} = {self.gamma[i, j, k]}\")\n",
    "\n",
    "        print(\"\\n--- Ricci Tensor ---\")\n",
    "        for i in range(self.dim):\n",
    "            for j in range(self.dim):\n",
    "                if self.ricci_tensor[i, j] != 0:\n",
    "                    print(f\"R_{{{self.coors[i]}{self.coors[j]}}} = {self.ricci_tensor[i, j]}\")\n",
    "\n",
    "        print(\"\\n--- Ricci Scalar ---\")\n",
    "        print(f\"R = {self.ricci_scalar}\")\n",
    "\n",
    "        print(\"\\n--- Einstein Tensor ---\")\n",
    "        for i in range(self.dim):\n",
    "            for j in range(self.dim):\n",
    "                if self.einstein_tensor[i, j] != 0:\n",
    "                    print(f\"G_{{{self.coors[i]}{self.coors[j]}}} = {self.einstein_tensor[i, j]}\")\n",
    "\n",
    "\n",
    "if __name__ == \"__main__\":\n",
    "    calculator = FRWCalculator()\n",
    "    calculator.compute_christoffel_symbols()\n",
    "    calculator.compute_ricci_tensor()\n",
    "    calculator.compute_ricci_scalar()\n",
    "    calculator.compute_einstein_tensor()\n",
    "    calculator.display_results()\n"
   ]
  },
  {
   "cell_type": "code",
   "execution_count": null,
   "id": "011e7a90-1f63-4189-93c8-e17f99ed9499",
   "metadata": {},
   "outputs": [],
   "source": []
  }
 ],
 "metadata": {
  "kernelspec": {
   "display_name": "Python 3 (ipykernel)",
   "language": "python",
   "name": "python3"
  },
  "language_info": {
   "codemirror_mode": {
    "name": "ipython",
    "version": 3
   },
   "file_extension": ".py",
   "mimetype": "text/x-python",
   "name": "python",
   "nbconvert_exporter": "python",
   "pygments_lexer": "ipython3",
   "version": "3.12.2"
  }
 },
 "nbformat": 4,
 "nbformat_minor": 5
}
